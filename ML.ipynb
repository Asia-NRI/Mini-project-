{
 "cells": [
  {
   "cell_type": "code",
   "execution_count": 1,
   "metadata": {},
   "outputs": [
    {
     "name": "stdout",
     "output_type": "stream",
     "text": [
      "Basic Trigonometry Calculator\n",
      "Choose an option:\n",
      "1. Sine\n",
      "2. Cosine\n",
      "3. Tangent\n",
      "4. Cotangent\n",
      "5. Secant\n",
      "6. Cosecant\n",
      "Sine(45.0°) = 0.7071067811865476\n"
     ]
    }
   ],
   "source": [
    "import math\n",
    "\n",
    "def trig_calculator():\n",
    "    print(\"Basic Trigonometry Calculator\")\n",
    "    print(\"Choose an option:\")\n",
    "    print(\"1. Sine\")\n",
    "    print(\"2. Cosine\")\n",
    "    print(\"3. Tangent\")\n",
    "    print(\"4. Cotangent\")\n",
    "    print(\"5. Secant\")\n",
    "    print(\"6. Cosecant\")\n",
    "    \n",
    "    choice = int(input(\"Enter choice (1-6): \"))\n",
    "    \n",
    "    if choice in [1, 2, 3, 4, 5, 6]:\n",
    "        angle_deg = float(input(\"Enter angle in degrees: \"))\n",
    "        angle_rad = math.radians(angle_deg)  # Convert to radians\n",
    "\n",
    "        if choice == 1:\n",
    "            result = math.sin(angle_rad)\n",
    "            print(f\"Sine({angle_deg}°) = {result}\")\n",
    "        elif choice == 2:\n",
    "            result = math.cos(angle_rad)\n",
    "            print(f\"Cosine({angle_deg}°) = {result}\")\n",
    "        elif choice == 3:\n",
    "            result = math.tan(angle_rad)\n",
    "            print(f\"Tangent({angle_deg}°) = {result}\")\n",
    "        elif choice == 4:\n",
    "            result = 1 / math.tan(angle_rad)\n",
    "            print(f\"Cotangent({angle_deg}°) = {result}\")\n",
    "        elif choice == 5:\n",
    "            result = 1 / math.cos(angle_rad)\n",
    "            print(f\"Secant({angle_deg}°) = {result}\")\n",
    "        elif choice == 6:\n",
    "            result = 1 / math.sin(angle_rad)\n",
    "            print(f\"Cosecant({angle_deg}°) = {result}\")\n",
    "    else:\n",
    "        print(\"Invalid choice! Please select a number between 1 and 6.\")\n",
    "\n",
    "# To run the function\n",
    "trig_calculator()"
   ]
  }
 ],
 "metadata": {
  "kernelspec": {
   "display_name": "Python 3",
   "language": "python",
   "name": "python3"
  },
  "language_info": {
   "codemirror_mode": {
    "name": "ipython",
    "version": 3
   },
   "file_extension": ".py",
   "mimetype": "text/x-python",
   "name": "python",
   "nbconvert_exporter": "python",
   "pygments_lexer": "ipython3",
   "version": "3.9.0"
  }
 },
 "nbformat": 4,
 "nbformat_minor": 2
}
